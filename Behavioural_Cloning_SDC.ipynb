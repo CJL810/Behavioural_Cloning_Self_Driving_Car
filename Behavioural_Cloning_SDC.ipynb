{
  "nbformat": 4,
  "nbformat_minor": 0,
  "metadata": {
    "colab": {
      "name": "Behavioural_Cloning_SDC.ipynb",
      "version": "0.3.2",
      "provenance": [],
      "collapsed_sections": [],
      "include_colab_link": true
    },
    "kernelspec": {
      "name": "python3",
      "display_name": "Python 3"
    },
    "accelerator": "GPU"
  },
  "cells": [
    {
      "cell_type": "markdown",
      "metadata": {
        "id": "view-in-github",
        "colab_type": "text"
      },
      "source": [
        "<a href=\"https://colab.research.google.com/github/CJL810/Behavioural_Cloning_Self_Driving_Car/blob/master/Behavioural_Cloning_SDC.ipynb\" target=\"_parent\"><img src=\"https://colab.research.google.com/assets/colab-badge.svg\" alt=\"Open In Colab\"/></a>"
      ]
    },
    {
      "metadata": {
        "id": "yeHzixCUznQC",
        "colab_type": "code",
        "colab": {
          "base_uri": "https://localhost:8080/",
          "height": 34
        },
        "outputId": "66e1427a-3d3b-4094-ce5a-a9845b1438e2"
      },
      "cell_type": "code",
      "source": [
        "!git clone https://github.com/CJL810/BH_Dataset.git"
      ],
      "execution_count": 29,
      "outputs": [
        {
          "output_type": "stream",
          "text": [
            "fatal: destination path 'BH_Dataset' already exists and is not an empty directory.\n"
          ],
          "name": "stdout"
        }
      ]
    },
    {
      "metadata": {
        "id": "xE_3FhOuz8GB",
        "colab_type": "code",
        "colab": {
          "base_uri": "https://localhost:8080/",
          "height": 34
        },
        "outputId": "e5d391b9-8d65-4b7c-a676-bb0ebe6b8f03"
      },
      "cell_type": "code",
      "source": [
        "!ls BH_Dataset"
      ],
      "execution_count": 30,
      "outputs": [
        {
          "output_type": "stream",
          "text": [
            "driving_log.csv  IMG  README.md\n"
          ],
          "name": "stdout"
        }
      ]
    },
    {
      "metadata": {
        "id": "I4rB2ZYO0Dyb",
        "colab_type": "code",
        "colab": {}
      },
      "cell_type": "code",
      "source": [
        "import numpy as np\n",
        "import matplotlib.pyplot as plt\n",
        "import cv2\n",
        "import pandas as pd\n",
        "import random\n",
        "import os\n",
        "import ntpath\n",
        "import keras\n",
        "from keras.models import Sequential\n",
        "from keras.optimizers import Adam\n",
        "from keras.layers import Conv2D, MaxPooling2D, Dropout, Flatten, Dense\n",
        "from sklearn.utils import shuffle"
      ],
      "execution_count": 0,
      "outputs": []
    },
    {
      "metadata": {
        "id": "e6fa8wPk0nYI",
        "colab_type": "code",
        "colab": {
          "base_uri": "https://localhost:8080/",
          "height": 309
        },
        "outputId": "7c5341f1-5f3b-4142-e0aa-c343f7fa07a0"
      },
      "cell_type": "code",
      "source": [
        "datadir = 'BH_Dataset'\n",
        "columns = ['center', 'left', 'right', 'steering', 'throttle', 'reverse', 'speed']\n",
        "data = pd.read_csv(os.path.join(datadir, 'driving_log.csv'), names = columns)\n",
        "pd.set_option('display.max_colwidth', -1)\n",
        "data.head()"
      ],
      "execution_count": 32,
      "outputs": [
        {
          "output_type": "execute_result",
          "data": {
            "text/html": [
              "<div>\n",
              "<style scoped>\n",
              "    .dataframe tbody tr th:only-of-type {\n",
              "        vertical-align: middle;\n",
              "    }\n",
              "\n",
              "    .dataframe tbody tr th {\n",
              "        vertical-align: top;\n",
              "    }\n",
              "\n",
              "    .dataframe thead th {\n",
              "        text-align: right;\n",
              "    }\n",
              "</style>\n",
              "<table border=\"1\" class=\"dataframe\">\n",
              "  <thead>\n",
              "    <tr style=\"text-align: right;\">\n",
              "      <th></th>\n",
              "      <th>center</th>\n",
              "      <th>left</th>\n",
              "      <th>right</th>\n",
              "      <th>steering</th>\n",
              "      <th>throttle</th>\n",
              "      <th>reverse</th>\n",
              "      <th>speed</th>\n",
              "    </tr>\n",
              "  </thead>\n",
              "  <tbody>\n",
              "    <tr>\n",
              "      <th>0</th>\n",
              "      <td>/Users/cam/Documents/Complete SDC Course/Data/IMG/center_2019_02_09_22_28_54_631.jpg</td>\n",
              "      <td>/Users/cam/Documents/Complete SDC Course/Data/IMG/left_2019_02_09_22_28_54_631.jpg</td>\n",
              "      <td>/Users/cam/Documents/Complete SDC Course/Data/IMG/right_2019_02_09_22_28_54_631.jpg</td>\n",
              "      <td>0.0</td>\n",
              "      <td>0.0</td>\n",
              "      <td>0.0</td>\n",
              "      <td>0.000082</td>\n",
              "    </tr>\n",
              "    <tr>\n",
              "      <th>1</th>\n",
              "      <td>/Users/cam/Documents/Complete SDC Course/Data/IMG/center_2019_02_09_22_28_54_737.jpg</td>\n",
              "      <td>/Users/cam/Documents/Complete SDC Course/Data/IMG/left_2019_02_09_22_28_54_737.jpg</td>\n",
              "      <td>/Users/cam/Documents/Complete SDC Course/Data/IMG/right_2019_02_09_22_28_54_737.jpg</td>\n",
              "      <td>0.0</td>\n",
              "      <td>0.0</td>\n",
              "      <td>0.0</td>\n",
              "      <td>0.000081</td>\n",
              "    </tr>\n",
              "    <tr>\n",
              "      <th>2</th>\n",
              "      <td>/Users/cam/Documents/Complete SDC Course/Data/IMG/center_2019_02_09_22_28_54_845.jpg</td>\n",
              "      <td>/Users/cam/Documents/Complete SDC Course/Data/IMG/left_2019_02_09_22_28_54_845.jpg</td>\n",
              "      <td>/Users/cam/Documents/Complete SDC Course/Data/IMG/right_2019_02_09_22_28_54_845.jpg</td>\n",
              "      <td>0.0</td>\n",
              "      <td>0.0</td>\n",
              "      <td>0.0</td>\n",
              "      <td>0.000082</td>\n",
              "    </tr>\n",
              "    <tr>\n",
              "      <th>3</th>\n",
              "      <td>/Users/cam/Documents/Complete SDC Course/Data/IMG/center_2019_02_09_22_28_54_951.jpg</td>\n",
              "      <td>/Users/cam/Documents/Complete SDC Course/Data/IMG/left_2019_02_09_22_28_54_951.jpg</td>\n",
              "      <td>/Users/cam/Documents/Complete SDC Course/Data/IMG/right_2019_02_09_22_28_54_951.jpg</td>\n",
              "      <td>0.0</td>\n",
              "      <td>0.0</td>\n",
              "      <td>0.0</td>\n",
              "      <td>0.000082</td>\n",
              "    </tr>\n",
              "    <tr>\n",
              "      <th>4</th>\n",
              "      <td>/Users/cam/Documents/Complete SDC Course/Data/IMG/center_2019_02_09_22_28_55_061.jpg</td>\n",
              "      <td>/Users/cam/Documents/Complete SDC Course/Data/IMG/left_2019_02_09_22_28_55_061.jpg</td>\n",
              "      <td>/Users/cam/Documents/Complete SDC Course/Data/IMG/right_2019_02_09_22_28_55_061.jpg</td>\n",
              "      <td>0.0</td>\n",
              "      <td>0.0</td>\n",
              "      <td>0.0</td>\n",
              "      <td>0.000082</td>\n",
              "    </tr>\n",
              "  </tbody>\n",
              "</table>\n",
              "</div>"
            ],
            "text/plain": [
              "                                                                                 center  \\\n",
              "0  /Users/cam/Documents/Complete SDC Course/Data/IMG/center_2019_02_09_22_28_54_631.jpg   \n",
              "1  /Users/cam/Documents/Complete SDC Course/Data/IMG/center_2019_02_09_22_28_54_737.jpg   \n",
              "2  /Users/cam/Documents/Complete SDC Course/Data/IMG/center_2019_02_09_22_28_54_845.jpg   \n",
              "3  /Users/cam/Documents/Complete SDC Course/Data/IMG/center_2019_02_09_22_28_54_951.jpg   \n",
              "4  /Users/cam/Documents/Complete SDC Course/Data/IMG/center_2019_02_09_22_28_55_061.jpg   \n",
              "\n",
              "                                                                                  left  \\\n",
              "0   /Users/cam/Documents/Complete SDC Course/Data/IMG/left_2019_02_09_22_28_54_631.jpg   \n",
              "1   /Users/cam/Documents/Complete SDC Course/Data/IMG/left_2019_02_09_22_28_54_737.jpg   \n",
              "2   /Users/cam/Documents/Complete SDC Course/Data/IMG/left_2019_02_09_22_28_54_845.jpg   \n",
              "3   /Users/cam/Documents/Complete SDC Course/Data/IMG/left_2019_02_09_22_28_54_951.jpg   \n",
              "4   /Users/cam/Documents/Complete SDC Course/Data/IMG/left_2019_02_09_22_28_55_061.jpg   \n",
              "\n",
              "                                                                                  right  \\\n",
              "0   /Users/cam/Documents/Complete SDC Course/Data/IMG/right_2019_02_09_22_28_54_631.jpg   \n",
              "1   /Users/cam/Documents/Complete SDC Course/Data/IMG/right_2019_02_09_22_28_54_737.jpg   \n",
              "2   /Users/cam/Documents/Complete SDC Course/Data/IMG/right_2019_02_09_22_28_54_845.jpg   \n",
              "3   /Users/cam/Documents/Complete SDC Course/Data/IMG/right_2019_02_09_22_28_54_951.jpg   \n",
              "4   /Users/cam/Documents/Complete SDC Course/Data/IMG/right_2019_02_09_22_28_55_061.jpg   \n",
              "\n",
              "   steering  throttle  reverse     speed  \n",
              "0  0.0       0.0       0.0      0.000082  \n",
              "1  0.0       0.0       0.0      0.000081  \n",
              "2  0.0       0.0       0.0      0.000082  \n",
              "3  0.0       0.0       0.0      0.000082  \n",
              "4  0.0       0.0       0.0      0.000082  "
            ]
          },
          "metadata": {
            "tags": []
          },
          "execution_count": 32
        }
      ]
    },
    {
      "metadata": {
        "id": "oUJp--rO1JH3",
        "colab_type": "code",
        "colab": {
          "base_uri": "https://localhost:8080/",
          "height": 204
        },
        "outputId": "80306a5f-0bdb-4ec0-d8f9-2a1d1daf76d3"
      },
      "cell_type": "code",
      "source": [
        "def path_leaf(path):\n",
        "  head, tail = ntpath.split(path)\n",
        "  return tail\n",
        "data['center'] = data['center'].apply(path_leaf)\n",
        "data['left'] = data['left'].apply(path_leaf)\n",
        "data['right'] = data['right'].apply(path_leaf)\n",
        "data.head()"
      ],
      "execution_count": 33,
      "outputs": [
        {
          "output_type": "execute_result",
          "data": {
            "text/html": [
              "<div>\n",
              "<style scoped>\n",
              "    .dataframe tbody tr th:only-of-type {\n",
              "        vertical-align: middle;\n",
              "    }\n",
              "\n",
              "    .dataframe tbody tr th {\n",
              "        vertical-align: top;\n",
              "    }\n",
              "\n",
              "    .dataframe thead th {\n",
              "        text-align: right;\n",
              "    }\n",
              "</style>\n",
              "<table border=\"1\" class=\"dataframe\">\n",
              "  <thead>\n",
              "    <tr style=\"text-align: right;\">\n",
              "      <th></th>\n",
              "      <th>center</th>\n",
              "      <th>left</th>\n",
              "      <th>right</th>\n",
              "      <th>steering</th>\n",
              "      <th>throttle</th>\n",
              "      <th>reverse</th>\n",
              "      <th>speed</th>\n",
              "    </tr>\n",
              "  </thead>\n",
              "  <tbody>\n",
              "    <tr>\n",
              "      <th>0</th>\n",
              "      <td>center_2019_02_09_22_28_54_631.jpg</td>\n",
              "      <td>left_2019_02_09_22_28_54_631.jpg</td>\n",
              "      <td>right_2019_02_09_22_28_54_631.jpg</td>\n",
              "      <td>0.0</td>\n",
              "      <td>0.0</td>\n",
              "      <td>0.0</td>\n",
              "      <td>0.000082</td>\n",
              "    </tr>\n",
              "    <tr>\n",
              "      <th>1</th>\n",
              "      <td>center_2019_02_09_22_28_54_737.jpg</td>\n",
              "      <td>left_2019_02_09_22_28_54_737.jpg</td>\n",
              "      <td>right_2019_02_09_22_28_54_737.jpg</td>\n",
              "      <td>0.0</td>\n",
              "      <td>0.0</td>\n",
              "      <td>0.0</td>\n",
              "      <td>0.000081</td>\n",
              "    </tr>\n",
              "    <tr>\n",
              "      <th>2</th>\n",
              "      <td>center_2019_02_09_22_28_54_845.jpg</td>\n",
              "      <td>left_2019_02_09_22_28_54_845.jpg</td>\n",
              "      <td>right_2019_02_09_22_28_54_845.jpg</td>\n",
              "      <td>0.0</td>\n",
              "      <td>0.0</td>\n",
              "      <td>0.0</td>\n",
              "      <td>0.000082</td>\n",
              "    </tr>\n",
              "    <tr>\n",
              "      <th>3</th>\n",
              "      <td>center_2019_02_09_22_28_54_951.jpg</td>\n",
              "      <td>left_2019_02_09_22_28_54_951.jpg</td>\n",
              "      <td>right_2019_02_09_22_28_54_951.jpg</td>\n",
              "      <td>0.0</td>\n",
              "      <td>0.0</td>\n",
              "      <td>0.0</td>\n",
              "      <td>0.000082</td>\n",
              "    </tr>\n",
              "    <tr>\n",
              "      <th>4</th>\n",
              "      <td>center_2019_02_09_22_28_55_061.jpg</td>\n",
              "      <td>left_2019_02_09_22_28_55_061.jpg</td>\n",
              "      <td>right_2019_02_09_22_28_55_061.jpg</td>\n",
              "      <td>0.0</td>\n",
              "      <td>0.0</td>\n",
              "      <td>0.0</td>\n",
              "      <td>0.000082</td>\n",
              "    </tr>\n",
              "  </tbody>\n",
              "</table>\n",
              "</div>"
            ],
            "text/plain": [
              "                               center                              left  \\\n",
              "0  center_2019_02_09_22_28_54_631.jpg  left_2019_02_09_22_28_54_631.jpg   \n",
              "1  center_2019_02_09_22_28_54_737.jpg  left_2019_02_09_22_28_54_737.jpg   \n",
              "2  center_2019_02_09_22_28_54_845.jpg  left_2019_02_09_22_28_54_845.jpg   \n",
              "3  center_2019_02_09_22_28_54_951.jpg  left_2019_02_09_22_28_54_951.jpg   \n",
              "4  center_2019_02_09_22_28_55_061.jpg  left_2019_02_09_22_28_55_061.jpg   \n",
              "\n",
              "                               right  steering  throttle  reverse     speed  \n",
              "0  right_2019_02_09_22_28_54_631.jpg  0.0       0.0       0.0      0.000082  \n",
              "1  right_2019_02_09_22_28_54_737.jpg  0.0       0.0       0.0      0.000081  \n",
              "2  right_2019_02_09_22_28_54_845.jpg  0.0       0.0       0.0      0.000082  \n",
              "3  right_2019_02_09_22_28_54_951.jpg  0.0       0.0       0.0      0.000082  \n",
              "4  right_2019_02_09_22_28_55_061.jpg  0.0       0.0       0.0      0.000082  "
            ]
          },
          "metadata": {
            "tags": []
          },
          "execution_count": 33
        }
      ]
    },
    {
      "metadata": {
        "id": "DK4X0eLH1pJG",
        "colab_type": "code",
        "colab": {
          "base_uri": "https://localhost:8080/",
          "height": 364
        },
        "outputId": "fbd5afe1-4ac7-4717-86be-edf4e832d013"
      },
      "cell_type": "code",
      "source": [
        "num_bins = 25\n",
        "samples_per_bin = 200\n",
        "hist, bins = np.histogram(data['steering'], num_bins)\n",
        "center = (bins[:-1] + bins[1:]) * 0.5\n",
        "plt.bar(center, hist, width = 0.05)\n",
        "plt.plot((np.min(data['steering']), np.max(data['steering'])), (samples_per_bin, samples_per_bin))"
      ],
      "execution_count": 34,
      "outputs": [
        {
          "output_type": "execute_result",
          "data": {
            "text/plain": [
              "[<matplotlib.lines.Line2D at 0x7fe1fa468ba8>]"
            ]
          },
          "metadata": {
            "tags": []
          },
          "execution_count": 34
        },
        {
          "output_type": "display_data",
          "data": {
            "image/png": "[encoded data removed]",
            "text/plain": [
              "<Figure size 576x396 with 1 Axes>"
            ]
          },
          "metadata": {
            "tags": []
          }
        }
      ]
    },
    {
      "metadata": {
        "id": "iffzIsST2pVC",
        "colab_type": "code",
        "colab": {
          "base_uri": "https://localhost:8080/",
          "height": 415
        },
        "outputId": "401af0ed-ac64-4bf2-896a-f3005caa54a5"
      },
      "cell_type": "code",
      "source": [
        "print('total data: ', len(data))\n",
        "remove_list = []\n",
        "for j in range(num_bins):\n",
        "  list_ = []\n",
        "  for i in range(len(data['steering'])):\n",
        "    if data['steering'][i] >= bins[j] and data['steering'][i] <= bins[j+1]:\n",
        "      list_.append(i)\n",
        "  list_ = shuffle(list_)\n",
        "  list_ = list_[samples_per_bin:]\n",
        "  remove_list.extend(list_)\n",
        "\n",
        "print('removed: ', len(remove_list))\n",
        "data.drop(data.index[remove_list], inplace = True)\n",
        "print('remaining: ', len(data))\n",
        "\n",
        "hist, _ = np.histogram(data['steering'], (num_bins))\n",
        "plt.bar(center, hist, width = 0.05)\n",
        "plt.plot((np.min(data['steering']), np.max(data['steering'])), (samples_per_bin, samples_per_bin))"
      ],
      "execution_count": 35,
      "outputs": [
        {
          "output_type": "stream",
          "text": [
            "total data:  5517\n",
            "removed:  3947\n",
            "remaining:  1570\n"
          ],
          "name": "stdout"
        },
        {
          "output_type": "execute_result",
          "data": {
            "text/plain": [
              "[<matplotlib.lines.Line2D at 0x7fe1fa396f60>]"
            ]
          },
          "metadata": {
            "tags": []
          },
          "execution_count": 35
        },
        {
          "output_type": "display_data",
          "data": {
            "image/png": "[encoded data removed]",
            "text/plain": [
              "<Figure size 576x396 with 1 Axes>"
            ]
          },
          "metadata": {
            "tags": []
          }
        }
      ]
    },
    {
      "metadata": {
        "id": "doyLYBgy6qfD",
        "colab_type": "code",
        "colab": {}
      },
      "cell_type": "code",
      "source": [
        ""
      ],
      "execution_count": 0,
      "outputs": []
    }
  ]
}